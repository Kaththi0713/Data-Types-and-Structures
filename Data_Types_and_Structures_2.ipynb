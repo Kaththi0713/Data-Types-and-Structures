{
  "nbformat": 4,
  "nbformat_minor": 0,
  "metadata": {
    "colab": {
      "provenance": []
    },
    "kernelspec": {
      "name": "python3",
      "display_name": "Python 3"
    },
    "language_info": {
      "name": "python"
    }
  },
  "cells": [
    {
      "cell_type": "markdown",
      "source": [
        "# **Data Types and Structures Assignment**"
      ],
      "metadata": {
        "id": "XS7Yp3jdi5Sh"
      }
    },
    {
      "cell_type": "markdown",
      "source": [
        "1. What are data structures, and why are they important?\n",
        "  \n",
        "  * Data structures are ways to organize and store data efficiently so it can be used effectively. They provide a framework for managing information, allowing for quick access, modification, and retrieval of data.\n",
        "  \n",
        "2.  Explain the difference between mutable and immutable data types with examples?\n",
        "  * Mutable data types are those whose values can be changed, whereas immutable data types are ones in which the values can’t be changed.\n",
        "  Examples of mutable types include lists, dictionaries, and sets, whereas strings and tuples are immutable.\n",
        "\n",
        "3. What are the main differences between lists and tuples in Python?\n",
        "  * Lists are mutable, allowing modifications, while tuples are immutable. Choosing between them depends on whether you need to modify the data or prioritize performance and memory efficiency.\n",
        "\n",
        "4. Describe how dictionaries store data.\n",
        "  * A Python dictionary is a data structure that stores the value in key: value pairs. Values in a dictionary can be of any data type and can be duplicated, whereas keys can't be repeated and must be immutable. Example: Here, The data is stored in key:value pairs in dictionaries, which makes it easier to find values.\n",
        "\n",
        "5. Why might you use a set instead of a list in Python?\n",
        "  * Sets remove duplicates and allow fast lookup. Lists keep order and allow duplicates.\n",
        "\n",
        "6. What is a string in Python, and how is it different from a list?\n",
        "  * A string is a sequence of characters between single or double quotes. A list is a sequence of items, where each item could be anything (an integer, a float, a string, etc).\n",
        "\n",
        "7. How do tuples ensure data integrity in Python?\n",
        "  * Tuples in Python ensure data integrity through their immutability. Once a tuple is created, its elements cannot be changed, added, or removed. This characteristic makes tuples suitable for storing data that should remain constant throughout a program's execution.\n",
        "\n",
        "8. What is a hash table, and how does it relate to dictionaries in Python?\n",
        "  * A hash table is a data structure that stores key-value pairs. It uses a hash function to calculate an index for each key, which is then used to store and retrieve the corresponding value. Python dictionaries use hash tables internally.\n",
        "\n",
        "9. Can lists contain different data types in Python?\n",
        "  * Yes, lists in Python can contain different data types. This is one of the features that makes Python lists very versatile. A single list can hold integers, floats, strings, booleans, and even other lists, tuples, or dictionaries.\n",
        "\n",
        "10. Explain why strings are immutable in Python?\n",
        "  * Strings are \"immutable\" which means they cannot be changed after they are created. Since strings can't be changed, we construct *new* strings as we go to represent computed values.\n",
        "\n",
        "11. What advantages do dictionaries offer over lists for certain tasks?\n",
        "  * Dictionaries excel in scenarios requiring fast lookups, key-value associations, and complex data mappings, while lists are ideal for ordered collections, sequential processing, and simple data storage.\n",
        "\n",
        "12.  Describe a scenario where using a tuple would be preferable over a list?\n",
        "  * Dictionaries excel in scenarios requiring fast lookups, key-value associations, and complex data mappings, while lists are ideal for ordered collections, sequential processing, and simple data storage.\n",
        "\n",
        "13.  How do sets handle duplicate values in Python?\n",
        "  * Sets are designed to store only unique elements. When you attempt to add a duplicate value to a set, it simply ignores the duplicate and retains only one instance of that value. This behavior ensures that sets always contain a collection of distinct items.\n",
        "\n",
        "14. How does the “in” keyword work differently for lists and dictionaries?\n",
        "  * For Lists, it checks if value exists but for dictionaries it checks if key exists.\n",
        "\n",
        "15. Can you modify the elements of a tuple? Explain why or why not.\n",
        "  * No, you cannot directly modify the elements of a tuple after it has been created. Tuples are immutable data structures, meaning their contents cannot be changed, added to, or removed from once they are defined. But it can be changed to list and then modifed and again convert to tuple.\n",
        "\n",
        "16. What is a nested dictionary, and give an example of its use case?\n",
        "  * A nested dictionary is a dictionary where the values are themselves dictionaries.\n",
        "  Use case : To create hierarchical or multi-level data structures, where each dictionary can contain other dictionaries as its values."
      ],
      "metadata": {
        "id": "Oi51We_eisAI"
      }
    },
    {
      "cell_type": "code",
      "source": [
        "people = {1: {'name': 'Karthika', 'age': '25', 'sex': 'Female'},\n",
        "          2: {'name': 'Sowmya', 'age': '24', 'sex': 'Female'}}\n",
        "\n",
        "print(people)"
      ],
      "metadata": {
        "colab": {
          "base_uri": "https://localhost:8080/"
        },
        "id": "Ofgi30L5SZlJ",
        "outputId": "610d6152-d215-4d4d-d00f-abfa78c819e0"
      },
      "execution_count": 18,
      "outputs": [
        {
          "output_type": "stream",
          "name": "stdout",
          "text": [
            "{1: {'name': 'Karthika', 'age': '25', 'sex': 'Female'}, 2: {'name': 'Sowmya', 'age': '24', 'sex': 'Female'}}\n"
          ]
        }
      ]
    },
    {
      "cell_type": "markdown",
      "source": [
        "17. Describe the time complexity of accessing elements in a dictionary?\n",
        "  * Accessing an element in a dictionary typically has an average time complexity of O(1), meaning it takes constant time regardless of the dictionary's size.\n",
        "\n",
        "18. In what situations are lists preferred over dictionaries?\n",
        "  * If you need an ordered collection, like a sequence of user actions, lists are your go-to.\n",
        "\n",
        "19. Why are dictionaries considered unordered, and how does that affect data retrieval?\n",
        "  * Dictionary is a data structure which is a important value structure, optimized for fast storage and recovery based on key.\n",
        "\n",
        "20. Explain the difference between a list and a dictionary in terms of data retrieval.\n",
        "  * In terms of data retrieval, lists are accessed by index, while dictionaries are accessed by key. This means that to retrieve a specific element from a list, you use its numerical position (starting from 0), whereas for a dictionary, you use the associated key to find the corresponding value."
      ],
      "metadata": {
        "id": "2WI7PJNjS42T"
      }
    },
    {
      "cell_type": "markdown",
      "source": [
        "# **Practical Questions**"
      ],
      "metadata": {
        "id": "umtvb46QVQoo"
      }
    },
    {
      "cell_type": "code",
      "source": [
        "# 1. Write a code to create a string with your name and print it.\n",
        "\n",
        "name = \"Karthika\"\n",
        "print(name)\n",
        "type(name)"
      ],
      "metadata": {
        "colab": {
          "base_uri": "https://localhost:8080/"
        },
        "id": "psLw8olDVMI_",
        "outputId": "6ac5dc0d-3125-4865-a804-accc65f8389b"
      },
      "execution_count": 73,
      "outputs": [
        {
          "output_type": "stream",
          "name": "stdout",
          "text": [
            "Karthika\n"
          ]
        },
        {
          "output_type": "execute_result",
          "data": {
            "text/plain": [
              "str"
            ]
          },
          "metadata": {},
          "execution_count": 73
        }
      ]
    },
    {
      "cell_type": "code",
      "source": [
        "# 2. Write a code to find the length of the string \"Hello World\".\n",
        "\n",
        "print(len(\"Hello World\"))"
      ],
      "metadata": {
        "colab": {
          "base_uri": "https://localhost:8080/"
        },
        "id": "w2Dnko58VnY_",
        "outputId": "3ef05b17-a500-43ba-acf8-12f5a65a9abc"
      },
      "execution_count": 23,
      "outputs": [
        {
          "output_type": "stream",
          "name": "stdout",
          "text": [
            "11\n"
          ]
        }
      ]
    },
    {
      "cell_type": "code",
      "source": [
        "# 3. Write a code to slice the first 3 characters from the string \"Python Programming\".\n",
        "\n",
        "s = \"Python Programming\"\n",
        "print(s[:3])"
      ],
      "metadata": {
        "colab": {
          "base_uri": "https://localhost:8080/"
        },
        "id": "9Mn_UcRLV3bR",
        "outputId": "5c88ade5-ae69-43c4-8ac1-8ebbc8d16c48"
      },
      "execution_count": 24,
      "outputs": [
        {
          "output_type": "stream",
          "name": "stdout",
          "text": [
            "Pyt\n"
          ]
        }
      ]
    },
    {
      "cell_type": "code",
      "source": [
        "# 4. Write a code to convert the string \"hello\" to uppercase.\n",
        "\n",
        "print(\"hello\".upper())"
      ],
      "metadata": {
        "colab": {
          "base_uri": "https://localhost:8080/"
        },
        "id": "s1b67qTfWgq4",
        "outputId": "e55337fe-6a48-4910-852d-f76ed2c23b21"
      },
      "execution_count": 25,
      "outputs": [
        {
          "output_type": "stream",
          "name": "stdout",
          "text": [
            "HELLO\n"
          ]
        }
      ]
    },
    {
      "cell_type": "code",
      "source": [
        "# 5. Write a code to replace the word \"apple\" with \"orange\" in the string \"I like apple\".\n",
        "\n",
        "print(\"I like apple\".replace(\"apple\", \"orange\"))"
      ],
      "metadata": {
        "colab": {
          "base_uri": "https://localhost:8080/"
        },
        "id": "gCIUUd2KWpYD",
        "outputId": "253b7801-80b6-431e-a3d4-4a9cb524ed4c"
      },
      "execution_count": 26,
      "outputs": [
        {
          "output_type": "stream",
          "name": "stdout",
          "text": [
            "I like orange\n"
          ]
        }
      ]
    },
    {
      "cell_type": "code",
      "source": [
        "#  6. Write a code to create a list with numbers 1 to 5 and print it.\n",
        "\n",
        "numbers = list(range(1,6))\n",
        "print(numbers)"
      ],
      "metadata": {
        "colab": {
          "base_uri": "https://localhost:8080/"
        },
        "id": "NU28UanNWzvv",
        "outputId": "47d97451-bb1d-4593-c843-7b7af27b6194"
      },
      "execution_count": 29,
      "outputs": [
        {
          "output_type": "stream",
          "name": "stdout",
          "text": [
            "[1, 2, 3, 4, 5]\n"
          ]
        }
      ]
    },
    {
      "cell_type": "code",
      "source": [
        "# 7. Write a code to append the number 10 to the list [1, 2, 3, 4].\n",
        "\n",
        "lst = [1, 2, 3, 4]\n",
        "lst.append(10)\n",
        "print(lst)"
      ],
      "metadata": {
        "colab": {
          "base_uri": "https://localhost:8080/"
        },
        "id": "ymTkXjWUXMQ8",
        "outputId": "8fbcf4d8-ad81-448b-af72-215cce4815b2"
      },
      "execution_count": 30,
      "outputs": [
        {
          "output_type": "stream",
          "name": "stdout",
          "text": [
            "[1, 2, 3, 4, 10]\n"
          ]
        }
      ]
    },
    {
      "cell_type": "code",
      "source": [
        "# 8. Write a code to remove the number 3 from the list [1, 2, 3, 4, 5].\n",
        "\n",
        "lst1 = [1, 2, 3, 4, 5]\n",
        "lst1.remove(3)\n",
        "print(lst1)"
      ],
      "metadata": {
        "colab": {
          "base_uri": "https://localhost:8080/"
        },
        "id": "G0SVjNPDX9JL",
        "outputId": "c7a415e9-7ca0-4697-ecf3-8456c8f1caaa"
      },
      "execution_count": 31,
      "outputs": [
        {
          "output_type": "stream",
          "name": "stdout",
          "text": [
            "[1, 2, 4, 5]\n"
          ]
        }
      ]
    },
    {
      "cell_type": "code",
      "source": [
        "# 9. Write a code to access the second element in the list ['a', 'b', 'c', 'd'].\n",
        "\n",
        "alp = ['a', 'b', 'c', 'd']\n",
        "print(alp[1])"
      ],
      "metadata": {
        "colab": {
          "base_uri": "https://localhost:8080/"
        },
        "id": "UPUifb9IYU3A",
        "outputId": "cdd8f29b-21d8-430a-c23a-37e4cf326482"
      },
      "execution_count": 35,
      "outputs": [
        {
          "output_type": "stream",
          "name": "stdout",
          "text": [
            "b\n"
          ]
        }
      ]
    },
    {
      "cell_type": "code",
      "source": [
        "# 10. Write a code to reverse the list [10, 20, 30, 40, 50].\n",
        "\n",
        "lst2 = [10, 20, 30, 40, 50]\n",
        "print(lst2[::-1])"
      ],
      "metadata": {
        "colab": {
          "base_uri": "https://localhost:8080/"
        },
        "id": "f3L7lMtkY4R_",
        "outputId": "bf61174d-acee-488c-85f3-7a3e5bc009f1"
      },
      "execution_count": 36,
      "outputs": [
        {
          "output_type": "stream",
          "name": "stdout",
          "text": [
            "[50, 40, 30, 20, 10]\n"
          ]
        }
      ]
    },
    {
      "cell_type": "code",
      "source": [
        "# 11. Write a code to create a tuple with the elements 100, 200, 300 and print it.\n",
        "\n",
        "tup = (100, 200, 300)\n",
        "print(tup)"
      ],
      "metadata": {
        "colab": {
          "base_uri": "https://localhost:8080/"
        },
        "id": "7z1PRwxzZHtY",
        "outputId": "1e120a56-008f-4b7d-8d77-3d0c5a02deeb"
      },
      "execution_count": 37,
      "outputs": [
        {
          "output_type": "stream",
          "name": "stdout",
          "text": [
            "(100, 200, 300)\n"
          ]
        }
      ]
    },
    {
      "cell_type": "code",
      "source": [
        "type(tup)"
      ],
      "metadata": {
        "colab": {
          "base_uri": "https://localhost:8080/"
        },
        "id": "wYp0MW_yZbZm",
        "outputId": "769cb29b-2707-43d7-c518-96db865d84fa"
      },
      "execution_count": 38,
      "outputs": [
        {
          "output_type": "execute_result",
          "data": {
            "text/plain": [
              "tuple"
            ]
          },
          "metadata": {},
          "execution_count": 38
        }
      ]
    },
    {
      "cell_type": "code",
      "source": [
        "# 12. Write a code to access the second-to-last element of the tuple ('red', 'green', 'blue', 'yellow').\n",
        "\n",
        "Color = ('red', 'green', 'blue', 'yellow')\n",
        "print(Color[-2])"
      ],
      "metadata": {
        "colab": {
          "base_uri": "https://localhost:8080/"
        },
        "id": "v032H2hCZdG3",
        "outputId": "851ab90e-1c5c-4c75-d07e-ce09acdf6c30"
      },
      "execution_count": 41,
      "outputs": [
        {
          "output_type": "stream",
          "name": "stdout",
          "text": [
            "blue\n"
          ]
        }
      ]
    },
    {
      "cell_type": "code",
      "source": [
        "# 13. Write a code to find the minimum number in the tuple (10, 20, 5, 15).\n",
        "\n",
        "tpl = (10, 20, 5, 15)\n",
        "print(min(tpl))"
      ],
      "metadata": {
        "colab": {
          "base_uri": "https://localhost:8080/"
        },
        "id": "ig9P7LLJZzf_",
        "outputId": "dd93ba0d-cb43-474e-b6da-a6a9a24996e8"
      },
      "execution_count": 42,
      "outputs": [
        {
          "output_type": "stream",
          "name": "stdout",
          "text": [
            "5\n"
          ]
        }
      ]
    },
    {
      "cell_type": "code",
      "source": [
        "# 14. Write a code to find the index of the element \"cat\" in the tuple ('dog', 'cat', 'rabbit').\n",
        "\n",
        "pets = ('dog', 'cat', 'rabbit')\n",
        "print(pets.index(\"cat\"))"
      ],
      "metadata": {
        "colab": {
          "base_uri": "https://localhost:8080/"
        },
        "id": "PnTE7yvBaDHg",
        "outputId": "354de8c5-ad16-4c0b-8108-aea21bea67af"
      },
      "execution_count": 43,
      "outputs": [
        {
          "output_type": "stream",
          "name": "stdout",
          "text": [
            "1\n"
          ]
        }
      ]
    },
    {
      "cell_type": "code",
      "source": [
        "# 15. Write a code to create a tuple containing three different fruits and check if \"kiwi\" is in it.\n",
        "\n",
        "fruits = (\"apple\", \"banana\", \"grape\")\n",
        "print(\"kiwi\" in fruits)"
      ],
      "metadata": {
        "colab": {
          "base_uri": "https://localhost:8080/"
        },
        "id": "8RoxmO91aImf",
        "outputId": "b247effb-c8f7-4143-fcf8-15f6caa56f1d"
      },
      "execution_count": 44,
      "outputs": [
        {
          "output_type": "stream",
          "name": "stdout",
          "text": [
            "False\n"
          ]
        }
      ]
    },
    {
      "cell_type": "code",
      "source": [
        "# 16. Write a code to create a set with the elements 'a', 'b', 'c' and print it.\n",
        "\n",
        "A = {'a', 'b', 'c'}\n",
        "print(A)"
      ],
      "metadata": {
        "colab": {
          "base_uri": "https://localhost:8080/"
        },
        "id": "kHQ4rxmGa2eA",
        "outputId": "51e0020c-1a7a-4230-b254-d4dda597ebc2"
      },
      "execution_count": 47,
      "outputs": [
        {
          "output_type": "stream",
          "name": "stdout",
          "text": [
            "{'b', 'c', 'a'}\n"
          ]
        }
      ]
    },
    {
      "cell_type": "code",
      "source": [
        "# 17. Write a code to clear all elements from the set {1, 2, 3, 4, 5}.\n",
        "\n",
        "S = {1, 2, 3, 4, 5}\n",
        "S.clear()\n",
        "print(S)"
      ],
      "metadata": {
        "colab": {
          "base_uri": "https://localhost:8080/"
        },
        "id": "PqaB9RpqbEMp",
        "outputId": "c7bbdb28-1e91-4228-c342-cad0c82adf98"
      },
      "execution_count": 49,
      "outputs": [
        {
          "output_type": "stream",
          "name": "stdout",
          "text": [
            "set()\n"
          ]
        }
      ]
    },
    {
      "cell_type": "code",
      "source": [
        "# 18. Write a code to remove the element 4 from the set {1, 2, 3, 4}.\n",
        "\n",
        "B = {1, 2, 3, 4}\n",
        "B.remove(4)\n",
        "print(B)"
      ],
      "metadata": {
        "colab": {
          "base_uri": "https://localhost:8080/"
        },
        "id": "Fz5JXvZxbjlw",
        "outputId": "2467577a-a325-424e-ebca-9765f70023d6"
      },
      "execution_count": 50,
      "outputs": [
        {
          "output_type": "stream",
          "name": "stdout",
          "text": [
            "{1, 2, 3}\n"
          ]
        }
      ]
    },
    {
      "cell_type": "code",
      "source": [
        "# 19. Write a code to find the union of two sets {1, 2, 3} and {3, 4, 5}.\n",
        "\n",
        "set1 = {1, 2, 3}\n",
        "set2 = {3, 4, 5}\n",
        "print(set1.union(set2))"
      ],
      "metadata": {
        "colab": {
          "base_uri": "https://localhost:8080/"
        },
        "id": "J_hPMtpTb3bw",
        "outputId": "8520771a-3d12-4489-adc1-7680065db93e"
      },
      "execution_count": 52,
      "outputs": [
        {
          "output_type": "stream",
          "name": "stdout",
          "text": [
            "{1, 2, 3, 4, 5}\n"
          ]
        }
      ]
    },
    {
      "cell_type": "code",
      "source": [
        "# 20. Write a code to find the intersection of two sets {1, 2, 3} and {2, 3, 4}.\n",
        "\n",
        "s1 = {1, 2, 3}\n",
        "s2 = {2, 3, 4}\n",
        "print(s1.intersection(s2))"
      ],
      "metadata": {
        "colab": {
          "base_uri": "https://localhost:8080/"
        },
        "id": "FTX5tLPdcLlC",
        "outputId": "9dd71266-6c77-4dd5-83e7-d1009afb058d"
      },
      "execution_count": 54,
      "outputs": [
        {
          "output_type": "stream",
          "name": "stdout",
          "text": [
            "{2, 3}\n"
          ]
        }
      ]
    },
    {
      "cell_type": "code",
      "source": [
        "# 21. Write a code to create a dictionary with the keys \"name\", \"age\", and \"city\", and print it.\n",
        "\n",
        "person = {\"name\": \"Kar\", \"age\": 25, \"city\": \"Chennai\"}\n",
        "print(person)"
      ],
      "metadata": {
        "colab": {
          "base_uri": "https://localhost:8080/"
        },
        "id": "k20VGdW8ctGP",
        "outputId": "19978a9c-69d5-4caf-8be5-717012db54b9"
      },
      "execution_count": 55,
      "outputs": [
        {
          "output_type": "stream",
          "name": "stdout",
          "text": [
            "{'name': 'Kar', 'age': 25, 'city': 'Chennai'}\n"
          ]
        }
      ]
    },
    {
      "cell_type": "code",
      "source": [
        "# 22. Write a code to add a new key-value pair \"country\": \"USA\" to the dictionary {'name': 'John', 'age': 25}.\n",
        "\n",
        "D = {'name': 'John', 'age': 25}\n",
        "D[\"country\"] = \"USA\"\n",
        "print(D)"
      ],
      "metadata": {
        "colab": {
          "base_uri": "https://localhost:8080/"
        },
        "id": "nRZwmqdqc8-W",
        "outputId": "fd2d22d7-462f-47bd-8985-67b64d0e5ae1"
      },
      "execution_count": 56,
      "outputs": [
        {
          "output_type": "stream",
          "name": "stdout",
          "text": [
            "{'name': 'John', 'age': 25, 'country': 'USA'}\n"
          ]
        }
      ]
    },
    {
      "cell_type": "code",
      "source": [
        "# 23. Write a code to access the value associated with the key \"name\" in the dictionary {'name': 'Alice', 'age': 30}.\n",
        "\n",
        "d = {'name': 'Alice', 'age': 30}\n",
        "print(d[\"name\"])"
      ],
      "metadata": {
        "colab": {
          "base_uri": "https://localhost:8080/"
        },
        "id": "trh2rXcldcIf",
        "outputId": "3441410b-a684-480a-c421-ee28345f1fb0"
      },
      "execution_count": 57,
      "outputs": [
        {
          "output_type": "stream",
          "name": "stdout",
          "text": [
            "Alice\n"
          ]
        }
      ]
    },
    {
      "cell_type": "code",
      "source": [
        "# 24. Write a code to remove the key \"age\" from the dictionary {'name': 'Bob', 'age': 22, 'city': 'New York'}.\n",
        "\n",
        "d = {'name': 'Bob', 'age': 22, 'city': 'New York'}\n",
        "del d[\"age\"]\n",
        "print(d)"
      ],
      "metadata": {
        "colab": {
          "base_uri": "https://localhost:8080/"
        },
        "id": "eQGC6kOcdraZ",
        "outputId": "c99d0a60-351a-4cbc-bde4-8e7251b68a18"
      },
      "execution_count": 58,
      "outputs": [
        {
          "output_type": "stream",
          "name": "stdout",
          "text": [
            "{'name': 'Bob', 'city': 'New York'}\n"
          ]
        }
      ]
    },
    {
      "cell_type": "code",
      "source": [
        "# 25. Write a code to check if the key \"city\" exists in the dictionary {'name': 'Alice', 'city': 'Paris'}.\n",
        "\n",
        "k = {'name': 'Alice', 'city': 'Paris'}\n",
        "print(\"city\" in k)"
      ],
      "metadata": {
        "colab": {
          "base_uri": "https://localhost:8080/"
        },
        "id": "RrN5n5M_d07i",
        "outputId": "9e98bd34-23b8-46a4-8d6f-0b9ca1f3901e"
      },
      "execution_count": 59,
      "outputs": [
        {
          "output_type": "stream",
          "name": "stdout",
          "text": [
            "True\n"
          ]
        }
      ]
    },
    {
      "cell_type": "code",
      "source": [
        "# 26. Write a code to create a list, a tuple, and a dictionary, and print them all.\n",
        "\n",
        "lst = [1, 2, 3]\n",
        "tpl = (4, 5, 6)\n",
        "dct = {\"a\": 10, \"b\": 20}\n",
        "print(lst, tpl, dct)"
      ],
      "metadata": {
        "colab": {
          "base_uri": "https://localhost:8080/"
        },
        "id": "0a9cSiE1eE2H",
        "outputId": "f1f28d2b-d3d6-4997-8a80-9cf5ed6d5364"
      },
      "execution_count": 61,
      "outputs": [
        {
          "output_type": "stream",
          "name": "stdout",
          "text": [
            "[1, 2, 3] (4, 5, 6) {'a': 10, 'b': 20}\n"
          ]
        }
      ]
    },
    {
      "cell_type": "code",
      "source": [
        "# 27.  Write a code to create a list of 5 random numbers between 1 and 100, sort it in ascending order, and print the result\n",
        "\n",
        "import random\n",
        "lst = random.sample(range(1, 101), 5)\n",
        "lst.sort()\n",
        "print(lst)"
      ],
      "metadata": {
        "colab": {
          "base_uri": "https://localhost:8080/"
        },
        "id": "eJgDl2RxePCv",
        "outputId": "6d0c7486-7144-4169-f36a-436b9bdc8730"
      },
      "execution_count": 67,
      "outputs": [
        {
          "output_type": "stream",
          "name": "stdout",
          "text": [
            "[24, 47, 61, 85, 94]\n"
          ]
        }
      ]
    },
    {
      "cell_type": "code",
      "source": [
        "# 28. Write a code to create a list with strings and print the element at the third index.\n",
        "\n",
        "Fruit = [\"apple\", \"banana\", \"cherry\", \"date\"]\n",
        "print(Fruit[3])"
      ],
      "metadata": {
        "colab": {
          "base_uri": "https://localhost:8080/"
        },
        "id": "5biesQ9CefTq",
        "outputId": "6af104cd-aa78-4edb-e71e-4309e7bb72f0"
      },
      "execution_count": 68,
      "outputs": [
        {
          "output_type": "stream",
          "name": "stdout",
          "text": [
            "date\n"
          ]
        }
      ]
    },
    {
      "cell_type": "code",
      "source": [
        "# 29. Write a code to combine two dictionaries into one and print the result.\n",
        "\n",
        "d1 = {\"a\": 1, \"b\": 2}\n",
        "d2 = {\"c\": 3, \"d\": 4}\n",
        "d1.update(d2)\n",
        "print(d1)"
      ],
      "metadata": {
        "colab": {
          "base_uri": "https://localhost:8080/"
        },
        "id": "QcdTym3yfQ9K",
        "outputId": "316d8d3a-bf85-4459-c32a-dfe6e6797483"
      },
      "execution_count": 71,
      "outputs": [
        {
          "output_type": "stream",
          "name": "stdout",
          "text": [
            "{'a': 1, 'b': 2, 'c': 3, 'd': 4}\n"
          ]
        }
      ]
    },
    {
      "cell_type": "code",
      "source": [
        "# 30. Write a code to convert a list of strings into a set.\n",
        "\n",
        "lst3 = [\"apple\", \"banana\", \"apple\"]\n",
        "s = set(lst3)\n",
        "print(s)"
      ],
      "metadata": {
        "colab": {
          "base_uri": "https://localhost:8080/"
        },
        "id": "XPd7PO3kfV6g",
        "outputId": "1b602537-554e-48df-9ac2-fab58231b046"
      },
      "execution_count": 72,
      "outputs": [
        {
          "output_type": "stream",
          "name": "stdout",
          "text": [
            "{'banana', 'apple'}\n"
          ]
        }
      ]
    }
  ]
}